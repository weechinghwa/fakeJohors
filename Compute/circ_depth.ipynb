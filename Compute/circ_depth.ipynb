{
 "cells": [
  {
   "cell_type": "code",
   "execution_count": 1,
   "id": "f90a6e5f",
   "metadata": {},
   "outputs": [],
   "source": [
    "## Mapper (FermionicOp to SparsePauliOp transformation) ## \n",
    "from qiskit_nature.second_q.mappers import JordanWignerMapper\n",
    "qubit_mapper = JordanWignerMapper()\n",
    "\n",
    "## For He6\n",
    "num_orbitals = (6,6)\n",
    "num_particles = (4,2)\n",
    "num_spin_orbitals = 12\n",
    "num_spatial_orbitals = int(num_spin_orbitals/2)\n",
    "preserve_spin = True\n",
    "\n",
    "def custom_excite(num_spatial_orbitals: int,num_particles:tuple):\n",
    "    excite_list_dum =  [((0, 1), (4, 5)),((2, 3), (4, 5)),((6, 7), (8, 9)),((6, 7), (10, 11))]\n",
    "    return excite_list_dum\n",
    "## Define excitation \n",
    "vqe_excitations = custom_excite\n",
    "\n",
    "## Reference state / Initial state ## \n",
    "from np_hartree_fock import * ## Import custom init state\n",
    "initial_state = HartreeFock(\n",
    "    num_orbitals = num_orbitals,\n",
    "    num_particles = num_particles,\n",
    "    qubit_mapper = qubit_mapper)\n",
    "\n",
    "## Ansatz libraries ##\n",
    "from qiskit_nature.second_q.circuit.library.ansatzes import UCC\n",
    "# from ucc_trott import UCC as UCC_trott\n",
    "## Ansatz\n",
    "reps=1\n",
    "var_form = UCC(\n",
    "    num_particles=num_particles,\n",
    "    num_spatial_orbitals=num_spatial_orbitals,\n",
    "    excitations=vqe_excitations,\n",
    "    qubit_mapper=qubit_mapper,\n",
    "    reps=reps,\n",
    "    initial_state=initial_state,\n",
    "    preserve_spin= preserve_spin)\n",
    "\n",
    "\n",
    "from qiskit_aer.backends import AerSimulator\n",
    "from qiskit.primitives import BackendEstimator\n",
    "from qiskit.transpiler.preset_passmanagers import generate_preset_pass_manager\n",
    "shots = 8192\n",
    "from FakeBackends.fake_johor_FJ001 import FakeJohorV2 as FJ001\n",
    "backend_fj001 = FJ001(); backend_fj001_gpu = AerSimulator.from_backend(backend_fj001, method=\"automatic\", device=\"GPU\")\n",
    "pass_man_fj001 = generate_preset_pass_manager(3, backend_fj001)\n",
    "esti_gpu_fj001= BackendEstimator(backend=backend_fj001_gpu, options={\"shots\":shots}, bound_pass_manager = pass_man_fj001)\n",
    "from numpy.random import rand\n"
   ]
  },
  {
   "cell_type": "code",
   "execution_count": 3,
   "id": "2bc03ce0",
   "metadata": {},
   "outputs": [
    {
     "name": "stdout",
     "output_type": "stream",
     "text": [
      "[1.4652987  1.4002428  0.50561367 3.02479441]\n",
      "250\n",
      "OrderedDict([('rz', 208), ('cx', 155), ('sx', 140), ('x', 2)])\n"
     ]
    }
   ],
   "source": [
    "param = rand(4)*np.pi\n",
    "print(param)\n",
    "fin_cir = pass_man_fj001.run(var_form.assign_parameters(param))\n",
    "\n",
    "print(fin_cir.decompose().decompose().decompose().depth())\n",
    "print(fin_cir.count_ops())"
   ]
  },
  {
   "cell_type": "code",
   "execution_count": 5,
   "id": "03d2d848",
   "metadata": {},
   "outputs": [],
   "source": [
    "## The Hamiltonian\n",
    "### Use the defined obs_twobody_df to construct the Hamiltonian\n",
    "from qiskit_nature.second_q.operators import FermionicOp\n",
    "import pandas as pd\n",
    "import numpy as np\n",
    "from qiskit.quantum_info.operators import SparsePauliOp\n",
    "\n",
    "## Data Loading\n",
    "obs_onebody_csv = \"../Data/2121_He6_herm_1/2121_He6_herm_1-1B_H_input.csv\"\n",
    "obs_twobody_csv = \"../Data/2121_He6_herm_1/2121_He6_herm_1-2B_H_input.csv\"\n",
    "obs_onebody_df = pd.read_csv(obs_onebody_csv)\n",
    "obs_twobody_df = pd.read_csv(obs_twobody_csv)\n",
    "\n",
    "### One body Terms: Single particle energy levels\n",
    "tmp_ham_one = {}\n",
    "for index, row in obs_onebody_df.iterrows():\n",
    "    fina = int(row['i']); init = int(row['j'])\n",
    "    the_onestring = \"+_\" +str(fina) + \" \" + \"-_\" +str(init) \n",
    "    tmp_ham_one[the_onestring] = row[\"epsilon\"]\n",
    "    tmp_ham = tmp_ham_one\n",
    "    \n",
    "### Two body Terms: Pairing interaction\n",
    "tmp_ham_two = {}\n",
    "for index, row in obs_twobody_df.iterrows():\n",
    "    fina_1 = int(row['i']); fina_2 = int(row['j']); \n",
    "    init_1 = int(row['k']); init_2 = int(row['l']); \n",
    "    the_twostring = \"+_\" +str(fina_1) + \" \" + \"+_\" +str(fina_2) + \" \" + \"-_\" +str(init_1) + \" \" + \"-_\" +str(init_2)\n",
    "    tmp_ham_two[the_twostring] = 0.25*row['V_ijkl']\n",
    "    tmp_ham = tmp_ham_two\n",
    "\n",
    "tmp_ham = {**tmp_ham_one, **tmp_ham_two}\n",
    "\n",
    "## The Hamiltonian Fermionic operator are given by\n",
    "Hamiltonian = FermionicOp(tmp_ham, \n",
    "                          num_spin_orbitals=num_spin_orbitals, \n",
    "                          copy=False)\n",
    "hermitian_info = Hamiltonian.is_hermitian()\n",
    "\n",
    "## Prepping Hamiltonian to be computed. Mapping. ## \n",
    "Hamiltonian_fermop_len = len(Hamiltonian)\n",
    "Hamiltonian = qubit_mapper.map(Hamiltonian)\n",
    "\n",
    "# Define observable to minimize (obs_to_minimize)\n",
    "## Add a constant term to the Hamiltonian\n",
    "sp_energies = obs_onebody_df[\"epsilon\"].to_list()\n",
    "E_sum_sp = sum(sp_energies[0:num_particles[0]] + sp_energies[num_orbitals[0]:num_orbitals[0]+num_particles[1]])\n",
    "Identity_string = \"I\"*num_spin_orbitals\n",
    "constant_term = SparsePauliOp(Identity_string, coeffs=np.array([-round(E_sum_sp,6)]))\n",
    "obs_to_minimize = SparsePauliOp.sum([Hamiltonian, constant_term])\n"
   ]
  },
  {
   "cell_type": "code",
   "execution_count": 6,
   "metadata": {},
   "outputs": [
    {
     "name": "stdout",
     "output_type": "stream",
     "text": [
      "length of obs: 68\n",
      "13\n"
     ]
    }
   ],
   "source": [
    "print(\"length of obs:\", len(obs_to_minimize))\n",
    "obs_to_minimize_GC = obs_to_minimize.group_commuting(qubit_wise=True)\n",
    "print(len(obs_to_minimize_GC))"
   ]
  },
  {
   "cell_type": "code",
   "execution_count": null,
   "id": "0cf452a9",
   "metadata": {},
   "outputs": [],
   "source": []
  }
 ],
 "metadata": {
  "kernelspec": {
   "display_name": "Python 3 (ipykernel)",
   "language": "python",
   "name": "python3"
  },
  "language_info": {
   "codemirror_mode": {
    "name": "ipython",
    "version": 3
   },
   "file_extension": ".py",
   "mimetype": "text/x-python",
   "name": "python",
   "nbconvert_exporter": "python",
   "pygments_lexer": "ipython3",
   "version": "3.9.0"
  }
 },
 "nbformat": 4,
 "nbformat_minor": 5
}
